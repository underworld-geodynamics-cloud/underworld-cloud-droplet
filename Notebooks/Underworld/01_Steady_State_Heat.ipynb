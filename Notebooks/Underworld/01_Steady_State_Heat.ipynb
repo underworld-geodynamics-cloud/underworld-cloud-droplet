{
 "cells": [
  {
   "cell_type": "markdown",
   "metadata": {},
   "source": [
    "Steady state heat equation\n",
    "======\n",
    "\n",
    "This notebook will setup and solve the steady state heat equation:\n",
    "\n",
    "\\\\[\n",
    "\\nabla(k\\nabla)T = h\n",
    "\\\\]\n",
    "\n",
    "where $k$ is the diffusivity, T the temperature field and $h$ the source term.\n",
    "This model is solved in a rectangular domain with Dirichlet boundary conditions on the top and bottom walls.\n",
    "\n",
    "**Keywords:** initial conditions, boundary conditions, heat equation\n",
    "\n",
    "\n",
    "![title](./images/01_temperature.png)\n"
   ]
  },
  {
   "cell_type": "code",
   "execution_count": 1,
   "metadata": {},
   "outputs": [],
   "source": [
    "import underworld as uw\n",
    "import underworld.visualisation as vis"
   ]
  },
  {
   "cell_type": "code",
   "execution_count": 2,
   "metadata": {},
   "outputs": [],
   "source": [
    "# Set some python variables for model parameters\n",
    "boxHeight = 1.0\n",
    "boxLength = 2.0\n",
    "resx = 16\n",
    "resy = 8\n",
    "\n",
    "# create mesh and variables\n",
    "mesh = uw.mesh.FeMesh_Cartesian( elementType = (\"Q1/dQ0\"), \n",
    "                                 elementRes  = (resx, resy), \n",
    "                                 minCoord    = (0., 0.), \n",
    "                                 maxCoord    = (boxLength, boxHeight))"
   ]
  },
  {
   "cell_type": "code",
   "execution_count": 3,
   "metadata": {},
   "outputs": [],
   "source": [
    "# Create mesh variables for the temperature field & initialise. \n",
    "temperatureField = mesh.add_variable( nodeDofCount=1 )\n",
    "temperatureField.data[:] = 0."
   ]
  },
  {
   "cell_type": "code",
   "execution_count": 4,
   "metadata": {},
   "outputs": [],
   "source": [
    "# Using the `specialSets` of the mesh we designate the vertices to \n",
    "# build the `DirichletCondition` object - Refer to the `Systems` section \n",
    "# of the user guide.\n",
    "botWalls = mesh.specialSets[\"Bottom_VertexSet\"]\n",
    "topWalls = mesh.specialSets[   \"Top_VertexSet\"]\n",
    "bcWalls = botWalls + topWalls\n",
    "tempBC = uw.conditions.DirichletCondition( variable=temperatureField, indexSetsPerDof=(bcWalls,) )"
   ]
  },
  {
   "cell_type": "code",
   "execution_count": 5,
   "metadata": {},
   "outputs": [],
   "source": [
    "# set bottom wall temperature bc\n",
    "temperatureField.data[botWalls] = 1.0\n",
    "# set top wall temperature bc\n",
    "temperatureField.data[topWalls] = 0.0"
   ]
  },
  {
   "cell_type": "code",
   "execution_count": 6,
   "metadata": {
    "scrolled": false
   },
   "outputs": [
    {
     "data": {
      "text/html": [
       "<img src='data:image/png;base64,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'>"
      ],
      "text/plain": [
       "<IPython.core.display.HTML object>"
      ]
     },
     "metadata": {},
     "output_type": "display_data"
    }
   ],
   "source": [
    "# visualisation of temperature field & mesh\n",
    "fig = vis.Figure(figsize=(800,400))\n",
    "fig.append( vis.objects.Mesh(mesh) )\n",
    "fig.append( vis.objects.Surface( mesh, temperatureField, colours=\"blue white red\" ) )\n",
    "fig.show()"
   ]
  },
  {
   "cell_type": "markdown",
   "metadata": {},
   "source": [
    "Heat Equation System setup & solve\n",
    "-----\n",
    "\n",
    "Temperature field, diffusivity and boundary conditions are passed to the SteadyStateHeat system function."
   ]
  },
  {
   "cell_type": "code",
   "execution_count": 7,
   "metadata": {},
   "outputs": [],
   "source": [
    "heatequation = uw.systems.SteadyStateHeat(temperatureField = temperatureField, \n",
    "                                            fn_diffusivity = 1.0, \n",
    "                                                conditions = tempBC)\n",
    "\n",
    "# get the default heat equation solver\n",
    "heatsolver = uw.systems.Solver(heatequation)\n",
    "# solve\n",
    "heatsolver.solve()"
   ]
  },
  {
   "cell_type": "code",
   "execution_count": 8,
   "metadata": {},
   "outputs": [
    {
     "data": {
      "text/html": [
       "<img src='data:image/png;base64,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'>"
      ],
      "text/plain": [
       "<IPython.core.display.HTML object>"
      ]
     },
     "metadata": {},
     "output_type": "display_data"
    }
   ],
   "source": [
    "# visualisation of temperature field & mesh\n",
    "fig.show()"
   ]
  },
  {
   "cell_type": "code",
   "execution_count": 9,
   "metadata": {},
   "outputs": [],
   "source": [
    "# As a test, ensure we reproduce the required average temperature\n",
    "import numpy as np\n",
    "tottemp = uw.utils.Integral(temperatureField, mesh)\n",
    "avtemp = tottemp.evaluate()[0] / (boxHeight*boxLength)\n",
    "if not np.isclose(avtemp,0.5):\n",
    "    raise RuntimeError(\"Incorrect average temperature produced by model. \")"
   ]
  },
  {
   "cell_type": "code",
   "execution_count": null,
   "metadata": {},
   "outputs": [],
   "source": []
  }
 ],
 "metadata": {
  "kernelspec": {
   "display_name": "Python 3",
   "language": "python",
   "name": "python3"
  },
  "language_info": {
   "codemirror_mode": {
    "name": "ipython",
    "version": 3
   },
   "file_extension": ".py",
   "mimetype": "text/x-python",
   "name": "python",
   "nbconvert_exporter": "python",
   "pygments_lexer": "ipython3",
   "version": "3.5.3"
  }
 },
 "nbformat": 4,
 "nbformat_minor": 1
}
