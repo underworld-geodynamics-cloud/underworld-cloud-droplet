{
 "cells": [
  {
   "cell_type": "markdown",
   "metadata": {},
   "source": [
    "Rayleigh-Taylor instability\n",
    "======\n",
    "\n",
    "<table><tr><td><img src='./images/05_raytay_init.png'></td><td><img src='./images/05_raytay.png'></td></tr></table>\n",
    "(Left) Initial model setup with buoyancy perturbation . (Right) Perturbation growth at time (dimernsionless) 160.\n",
    "\n",
    "This notebook models the Rayleigh-Taylor instability outlined in van Keken *et al.* (1997). \n",
    "\n",
    "The system of equations is given by\n",
    "\n",
    "$$\n",
    "    \\nabla \\cdot \\left( \\eta \\nabla \\dot\\varepsilon \\right) - \\nabla p = -\\rho g \\mathbf{\\hat z}\n",
    "$$\n",
    "\n",
    "$$\n",
    "    \\nabla \\cdot \\mathbf{v} = 0\n",
    "$$\n",
    "\n",
    "**Keywords:** particle swarms, Stokes system, advective diffusive systems\n",
    "\n",
    "**References**\n",
    "\n",
    "1. van Keken, P.E., S.D. King, H. Schmeling, U.R. Christensen, D.Neumeister and M.-P. Doin. A comparison of methods for the modeling of thermochemical convection. Journal of Geophysical Research, 102, 22,477-22,495, 1997.  \n",
    "http://onlinelibrary.wiley.com/doi/10.1029/97JB01353/abstract\n"
   ],
   "execution_count": null,
   "outputs": []
  },
  {
   "cell_type": "code",
   "execution_count": null,
   "metadata": {},
   "outputs": [],
   "source": [
    "import underworld as uw\n",
    "from underworld import function as fn\n",
    "import underworld.visualisation as vis\n",
    "import math\n",
    "import numpy as np\n",
    "\n",
    "try:\n",
    "    from xvfbwrapper import Xvfb\n",
    "    vdisplay = Xvfb()\n",
    "    vdisplay.start()\n",
    "except:\n",
    "    pass"
   ]
  },
  {
   "cell_type": "markdown",
   "metadata": {},
   "source": [
    "Setup parameters\n",
    "-----"
   ],
   "execution_count": null,
   "outputs": []
  },
  {
   "cell_type": "code",
   "execution_count": null,
   "metadata": {},
   "outputs": [],
   "source": [
    "# physical parameters\n",
    "boxLength      = 0.9142\n",
    "boxHeight      = 1.0\n",
    "viscosityRatio = 1.0\n",
    "\n",
    "# output\n",
    "inputPath  = 'input/05_Rayleigh_Taylor/'\n",
    "outputPath = 'output/'\n",
    "\n",
    "# numerical parameters - demo or 'longtest'\n",
    "# demo       - settings for a quick run (iff longtest is False)\n",
    "# 'longtest' - settings for benchmark\n",
    "\n",
    "longtest = False\n",
    "\n",
    "model_end_time   = 3.\n",
    "res              = 64\n",
    "stokes_inner_tol = 1e-6\n",
    "stokes_outer_tol = 1e-5\n",
    "# users ignore\n",
    "import os\n",
    "if \"UW_LONGTEST\" in os.environ or longtest:\n",
    "    # to capture the peak V_rms (benchmark) set model_end_time~220\n",
    "    # the peak V_rms. \n",
    " \n",
    "    model_end_time   = 800\n",
    "    res              = 128\n",
    "    stokes_inner_tol = 1e-7\n",
    "    stokes_outer_tol = 1e-5\n",
    "    "
   ]
  },
  {
   "cell_type": "code",
   "execution_count": null,
   "metadata": {},
   "outputs": [],
   "source": [
    "# Make output directory if necessary.\n",
    "if uw.mpi.rank==0:\n",
    "    import os\n",
    "    if not os.path.exists(outputPath):\n",
    "        os.makedirs(outputPath)"
   ]
  },
  {
   "cell_type": "markdown",
   "metadata": {},
   "source": [
    "Create mesh and finite element variables\n",
    "------"
   ],
   "execution_count": null,
   "outputs": []
  },
  {
   "cell_type": "code",
   "execution_count": null,
   "metadata": {},
   "outputs": [],
   "source": [
    "mesh = uw.mesh.FeMesh_Cartesian( elementType = (\"Q1/dQ0\"), \n",
    "                                 elementRes  = (res, res), \n",
    "                                 minCoord    = (0., 0.), \n",
    "                                 maxCoord    = (boxLength, boxHeight))\n",
    "\n",
    "velocityField = mesh.add_variable(         nodeDofCount=2 )\n",
    "pressureField = mesh.subMesh.add_variable( nodeDofCount=1 )\n",
    "\n",
    "# initialise \n",
    "velocityField.data[:] = [0.,0.]\n",
    "pressureField.data[:] = 0."
   ]
  },
  {
   "cell_type": "markdown",
   "metadata": {
    "collapsed": true
   },
   "source": [
    "Create a particle swarm\n",
    "------"
   ],
   "execution_count": null,
   "outputs": []
  },
  {
   "cell_type": "code",
   "execution_count": null,
   "metadata": {},
   "outputs": [],
   "source": [
    "# Create a swarm.\n",
    "swarm = uw.swarm.Swarm( mesh=mesh )\n",
    "\n",
    "# Create a data variable. It will be used to store the material index of each particle.\n",
    "materialIndex = swarm.add_variable( dataType=\"int\", count=1 )\n",
    "\n",
    "# Create a layout object, populate the swarm with particles.\n",
    "swarmLayout = uw.swarm.layouts.PerCellSpaceFillerLayout( swarm=swarm, particlesPerCell=20 )\n",
    "swarm.populate_using_layout( layout=swarmLayout )"
   ]
  },
  {
   "cell_type": "markdown",
   "metadata": {},
   "source": [
    "Initialise each particle's material index\n",
    "-----"
   ],
   "execution_count": null,
   "outputs": []
  },
  {
   "cell_type": "code",
   "execution_count": null,
   "metadata": {},
   "outputs": [],
   "source": [
    "# define these for convience. \n",
    "denseIndex = 0\n",
    "lightIndex = 1\n",
    "\n",
    "# material perturbation from van Keken et al. 1997\n",
    "wavelength = 2.0*boxLength\n",
    "amplitude  = 0.02\n",
    "offset     = 0.2\n",
    "k = 2. * math.pi / wavelength\n",
    "\n",
    "# Create function to return particle's coordinate\n",
    "coord = fn.coord()\n",
    "\n",
    "# Define the material perturbation, a function of the x coordinate (accessed by `coord[0]`).\n",
    "perturbationFn = offset + amplitude*fn.math.cos( k*coord[0] )\n",
    "\n",
    "# Setup the conditions list. \n",
    "# If z is less than the perturbation, set to lightIndex.\n",
    "conditions = [ ( perturbationFn > coord[1] , lightIndex ),\n",
    "               (                      True , denseIndex ) ]\n",
    "\n",
    "# The swarm is passed as an argument to the evaluation, providing evaluation on each particle.\n",
    "# Results are written to the materialIndex swarm variable.\n",
    "materialIndex.data[:] = fn.branching.conditional( conditions ).evaluate(swarm)"
   ]
  },
  {
   "cell_type": "markdown",
   "metadata": {},
   "source": [
    "**Plot the particles by material**"
   ],
   "execution_count": null,
   "outputs": []
  },
  {
   "cell_type": "code",
   "execution_count": null,
   "metadata": {
    "scrolled": false
   },
   "outputs": [],
   "source": [
    "fig1 = vis.Figure()\n",
    "fig1.append( vis.objects.Points(swarm, materialIndex, pointSize=2, colourBar=False) )\n",
    "fig1.show()"
   ]
  },
  {
   "cell_type": "markdown",
   "metadata": {},
   "source": [
    "Map properties to material index\n",
    "-----\n",
    "The Map function allows us to create 'per material' type behaviour. Again we use the branching function to set up a (condition, action) command. "
   ],
   "execution_count": null,
   "outputs": []
  },
  {
   "cell_type": "code",
   "execution_count": null,
   "metadata": {},
   "outputs": [],
   "source": [
    "# Set a density of '0.' for light material, '1.' for dense material.\n",
    "densityMap   = { lightIndex:0., denseIndex:1. }\n",
    "densityFn    = fn.branching.map( fn_key = materialIndex, mapping = densityMap )\n",
    "\n",
    "# Set a viscosity value of '1.' for both materials.\n",
    "viscosityMap = { lightIndex:viscosityRatio, denseIndex:1. }\n",
    "fn_viscosity  = fn.branching.map( fn_key = materialIndex, mapping = viscosityMap )\n",
    "\n",
    "# Define a vertical unit vector using a python tuple.\n",
    "z_hat = ( 0.0, 1.0 )\n",
    "\n",
    "# Create buoyancy force vector\n",
    "buoyancyFn = -densityFn*z_hat"
   ]
  },
  {
   "cell_type": "markdown",
   "metadata": {},
   "source": [
    "Boundary conditions\n",
    "-----\n",
    "\n",
    "Create free-slip condition on the vertical boundaries, and a no-slip condition on the horizontal boundaries."
   ],
   "execution_count": null,
   "outputs": []
  },
  {
   "cell_type": "code",
   "execution_count": null,
   "metadata": {},
   "outputs": [],
   "source": [
    "# Construct node sets using the mesh specialSets\n",
    "iWalls = mesh.specialSets[\"Left_VertexSet\"]   + mesh.specialSets[\"Right_VertexSet\"]\n",
    "jWalls = mesh.specialSets[\"Bottom_VertexSet\"] + mesh.specialSets[\"Top_VertexSet\"]\n",
    "allWalls = iWalls + jWalls\n",
    "\n",
    "# Prescribe degrees of freedom on each node to be considered Dirichlet conditions.\n",
    "# In the x direction on allWalls flag as Dirichlet\n",
    "# In the y direction on jWalls (horizontal) flag as Dirichlet\n",
    "stokesBC = uw.conditions.DirichletCondition( variable      = velocityField, \n",
    "                                             indexSetsPerDof = (allWalls, jWalls) )"
   ]
  },
  {
   "cell_type": "markdown",
   "metadata": {},
   "source": [
    "Create systems\n",
    "-----"
   ],
   "execution_count": null,
   "outputs": []
  },
  {
   "cell_type": "code",
   "execution_count": null,
   "metadata": {},
   "outputs": [],
   "source": [
    "stokes = uw.systems.Stokes( velocityField = velocityField, \n",
    "                            pressureField = pressureField,\n",
    "                            conditions    = stokesBC,\n",
    "                            fn_viscosity  = fn_viscosity, \n",
    "                            fn_bodyforce  = buoyancyFn )\n",
    "\n",
    "solver = uw.systems.Solver( stokes )\n",
    "\n",
    "# Optional solver settings\n",
    "if(uw.mpi.size==1):\n",
    "    solver.set_inner_method(\"lu\")\n",
    "#     solver.set_penalty(1.0e6) \n",
    "# solver.set_inner_rtol = stokes_inner_tol\n",
    "solver.set_outer_rtol = stokes_outer_tol\n",
    "\n",
    "# Create a system to advect the swarm\n",
    "advector = uw.systems.SwarmAdvector( swarm=swarm, velocityField=velocityField, order=2 )"
   ]
  },
  {
   "cell_type": "markdown",
   "metadata": {},
   "source": [
    "Time stepping\n",
    "-----"
   ],
   "execution_count": null,
   "outputs": []
  },
  {
   "cell_type": "code",
   "execution_count": null,
   "metadata": {},
   "outputs": [],
   "source": [
    "# Initialise time and timestep.\n",
    "time = 0.\n",
    "step = 0\n",
    "\n",
    "# parameters for output\n",
    "outputEvery  = 20\n",
    "timeVal     = []\n",
    "vrmsVal     = []\n",
    "\n",
    "# Save mesh and retain file handle for future xdmf creation\n",
    "meshFileHandle = mesh.save(outputPath+\"Mesh.h5\")"
   ]
  },
  {
   "cell_type": "code",
   "execution_count": null,
   "metadata": {},
   "outputs": [],
   "source": [
    "# define an update function\n",
    "def update():\n",
    "    dt = advector.get_max_dt() # retrieve the maximum possible timestep from the advection system.\n",
    "    advector.integrate(dt)     # advect step.\n",
    "    return time+dt, step+1"
   ]
  },
  {
   "cell_type": "code",
   "execution_count": null,
   "metadata": {},
   "outputs": [],
   "source": [
    "while time < model_end_time:\n",
    "\n",
    "    # Get solution\n",
    "    solver.solve()\n",
    "    \n",
    "    # Calculate the RMS velocity.\n",
    "    vrms = stokes.velocity_rms()\n",
    "\n",
    "    # Record values into arrays\n",
    "    if(uw.mpi.rank==0):\n",
    "        vrmsVal.append(vrms)\n",
    "        timeVal.append(time)\n",
    "    \n",
    "    # Output to disk\n",
    "    if step%outputEvery == 0:\n",
    "        if(uw.mpi.rank==0):\n",
    "            print('step = {0:6d}; time = {1:.3e}; v_rms = {2:.3e}'.format(step,time,vrms))\n",
    "\n",
    "        filename = outputPath+\"/velocityField.\"+str(step)\n",
    "        vFH      = velocityField.save(filename+\".h5\")\n",
    "        velocityField.xdmf( filename, vFH, \"velocity\", meshFileHandle, \"Mesh\", time )\n",
    "        \n",
    "        filename = outputPath+\"/pressureField.\"+str(step)\n",
    "        pFH      = pressureField.save(filename+\".h5\")\n",
    "        pressureField.xdmf(filename, pFH, \"pressure\", meshFileHandle, \"Mesh\", time )\n",
    "        \n",
    "        outputFilename = outputPath+\"image\"+str(step).zfill(4)\n",
    "        fig1.save_image(outputFilename)\n",
    "\n",
    "    # We are finished with current timestep, update.\n",
    "    time, step = update()\n",
    "    \n",
    "if(uw.mpi.rank==0):\n",
    "    print('step = {0:6d}; time = {1:.3e}; v_rms = {2:.3e}'.format(step,time,vrms))"
   ]
  },
  {
   "cell_type": "markdown",
   "metadata": {},
   "source": [
    "Post simulation analysis\n",
    "-----\n",
    "\n",
    "In two sections - 'demo' or 'longtest'"
   ],
   "execution_count": null,
   "outputs": []
  },
  {
   "cell_type": "code",
   "execution_count": null,
   "metadata": {},
   "outputs": [],
   "source": [
    "fig1.append( vis.objects.VectorArrows( mesh, velocityField))\n",
    "fig1.show()"
   ]
  },
  {
   "cell_type": "code",
   "execution_count": null,
   "metadata": {},
   "outputs": [],
   "source": [
    "if longtest == False:\n",
    "    # This cell is for testing purposes. It ensures the example computes the expected flow velocity rms values\n",
    "    if not np.isclose(stokes.velocity_rms(), 1.83340219912e-4):\n",
    "        raise RuntimeError(\"The Velocity RMS {} is not close to expected value\".format(stokes.velocity_rms()))\n",
    "\n",
    "# import os\n",
    "# os.write(1, \"Vrms is {:.5e} \\n\".format(stokes.velocity_rms()))\n",
    "\n",
    "if(uw.mpi.rank==0):\n",
    "    \n",
    "    maxIndex = np.argmax(vrmsVal)\n",
    "\n",
    "    print('Viscosity ratio = {0:.2f}'.format(viscosityRatio))\n",
    "    print('    t(max vrms) = {0:.2f}'.format(timeVal[maxIndex]))\n",
    "    print('           vrms = {0:.4e}'.format(vrmsVal[maxIndex]))\n",
    "    \n",
    "    # output a summary file with benchmark values (useful for parallel runs)\n",
    "    np.savetxt(outputPath+'summary.txt', [viscosityRatio, timeVal[maxIndex], vrmsVal[maxIndex]])"
   ]
  },
  {
   "cell_type": "markdown",
   "metadata": {},
   "source": [
    "The benchmark values from van Keken *et al.* 1997 are approximately:\n",
    "\n",
    "| Viscosity ratio ($\\frac{\\eta}{\\eta_r}$) |  t (max $v_{rms}$) | max $v_{rms}$ |\n",
    "| :-------------:  | :----------------: | :-----------: |\n",
    "| 1.00            | 208.99             | 3.0916e-3 |\n",
    "| 0.10            | 71.92              | 9.458e-3 |\n",
    "| 0.01            | 49.57              | 1.462e-2 |"
   ],
   "execution_count": null,
   "outputs": []
  },
  {
   "cell_type": "markdown",
   "metadata": {},
   "source": [
    "**Plot RMS velocity**"
   ],
   "execution_count": null,
   "outputs": []
  },
  {
   "cell_type": "code",
   "execution_count": null,
   "metadata": {},
   "outputs": [],
   "source": [
    "if uw.mpi.size == 1:\n",
    "    if   viscosityRatio == 1.0 :\n",
    "        data = np.loadtxt(inputPath+'VrmsCaseA.txt', unpack=True )\n",
    "    elif viscosityRatio == 0.1 :\n",
    "        data = np.loadtxt(inputPath+'VrmsCaseB.txt', unpack=True )\n",
    "    elif viscosityRatio == 0.01 :\n",
    "        data = np.loadtxt(inputPath+'VrmsCaseC.txt', unpack=True )\n",
    "    else :\n",
    "        print('No specific data found - default to Case A')\n",
    "        data = np.loadtxt(inputPath+'VrmsCaseA.txt', unpack=True )\n",
    "\n",
    "    # Load into data arrays to compare with timevals and vrmsvals from above.\n",
    "    timeCompare, vrmsCompare = data[0], data[1] \n",
    "    # These can be copied onto timevals and vrmsvals to skip running the time loop.    \n",
    "    uw.utils.matplotlib_inline()\n",
    "\n",
    "    import matplotlib.pyplot as pyplot\n",
    "    fig = pyplot.figure()\n",
    "    fig.set_size_inches(12, 6)\n",
    "    ax = fig.add_subplot(1,1,1)\n",
    "    ax.plot(timeCompare, vrmsCompare, color = 'black') \n",
    "    ax.plot(timeVal, vrmsVal, color = 'red', marker=\".\", markersize=10) \n",
    "    ax.set_xlabel('Time')\n",
    "    ax.set_ylabel('RMS velocity')\n",
    "    ax.set_xlim([0.0,1000.0])"
   ]
  }
 ],
 "metadata": {
  "kernelspec": {
   "display_name": "Python 3",
   "language": "python",
   "name": "python3"
  },
  "language_info": {
   "codemirror_mode": {
    "name": "ipython",
    "version": 3
   },
   "file_extension": ".py",
   "mimetype": "text/x-python",
   "name": "python",
   "nbconvert_exporter": "python",
   "pygments_lexer": "ipython3",
   "version": "3.5.3"
  }
 },
 "nbformat": 4,
 "nbformat_minor": 1
}