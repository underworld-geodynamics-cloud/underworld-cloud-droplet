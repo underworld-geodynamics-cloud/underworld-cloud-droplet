{
 "cells": [
  {
   "cell_type": "markdown",
   "metadata": {},
   "source": [
    "Thermal Convection\n",
    "======\n",
    "\n",
    "This example solves 2D dimensionless isoviscous thermal convection with a Rayleigh number of $10^4$, see Blankenbach *et al.* 1989 for details.\n",
    "\n",
    "**This example introduces:**\n",
    "1. Setting up material parameters and functions.\n",
    "2. Setting up and solving systems, Stokes and Advection Diffusion.\n",
    "3. The time stepping loop.\n",
    "4. Plotting with vis.\n",
    "\n",
    "![title](./images/02_veltemp.png)\n",
    "\n",
    "**Keywords:** material parameters, Stokes system, advective diffusive systems\n",
    "\n",
    "**References**\n",
    "\n",
    "B. Blankenbach, F. Busse, U. Christensen, L. Cserepes, D. Gunkel, U. Hansen, H. Harder, G. Jarvis, M. Koch, G. Marquart, D. Moore, P. Olson, H. Schmeling and T. Schnaubelt. A benchmark comparison for mantle convection codes. Geophysical Journal International, 98, 1, 23–38, 1989\n",
    "http://onlinelibrary.wiley.com/doi/10.1111/j.1365-246X.1989.tb05511.x/abstract"
   ],
   "execution_count": null,
   "outputs": []
  },
  {
   "cell_type": "code",
   "execution_count": null,
   "metadata": {},
   "outputs": [],
   "source": [
    "import underworld as uw\n",
    "from underworld import function as fn\n",
    "import underworld.visualisation as vis\n",
    "import math\n",
    "\n",
    "try:\n",
    "    from xvfbwrapper import Xvfb\n",
    "    vdisplay = Xvfb()\n",
    "    vdisplay.start()\n",
    "except:\n",
    "    pass"
   ]
  },
  {
   "cell_type": "code",
   "execution_count": null,
   "metadata": {},
   "outputs": [],
   "source": [
    "# Set python variables for model parameters.\n",
    "boxHeight = 1.0\n",
    "boxLength = 2.0\n",
    "res = 16\n",
    "tempMin = 0.0\n",
    "tempMax = 1.0"
   ]
  },
  {
   "cell_type": "code",
   "execution_count": null,
   "metadata": {},
   "outputs": [],
   "source": [
    "# build a rectangular domain, discretised with a Q1/dQ0 elementType\n",
    "mesh = uw.mesh.FeMesh_Cartesian( elementType = (\"Q1/dQ0\"), \n",
    "                                 elementRes  = (2*res, res), \n",
    "                                 minCoord    = (0., 0.), \n",
    "                                 maxCoord    = (boxLength, boxHeight))\n",
    "\n",
    "# create mesh variables.  Note the pressure field uses the sub-mesh (dQ0)\n",
    "velocityField       = mesh.add_variable(         nodeDofCount=2 )\n",
    "pressureField       = mesh.subMesh.add_variable( nodeDofCount=1 )\n",
    "temperatureField    = mesh.add_variable(         nodeDofCount=1 )\n",
    "temperatureDotField = mesh.add_variable(         nodeDofCount=1 ) # required for AdvectionDiffusion (SUPG) method\n",
    "\n",
    "# Initialise values\n",
    "velocityField.data[:]       = [0.,0.]\n",
    "pressureField.data[:]       = 0.\n",
    "temperatureDotField.data[:] = 0."
   ]
  },
  {
   "cell_type": "code",
   "execution_count": null,
   "metadata": {},
   "outputs": [],
   "source": [
    "# Setup python variabel and underworld.`function`\n",
    "\n",
    "# Set viscosity to be a constant.\n",
    "viscosity = 1.\n",
    "\n",
    "# Rayleigh number.\n",
    "Ra = 1.0e4\n",
    "\n",
    "# Construct our density `function`\n",
    "densityFn = Ra * temperatureField\n",
    "# '*' is overloaded. A multiplication of temperatureField (type MeshVariable)\n",
    "# and a python float creates a `function`. See user_guide `Function` for more details\n",
    "\n",
    "# Define our vertical unit vector using a python tuple (this will be converted to a function next).\n",
    "z_hat = ( 0.0, 1.0 )\n",
    "\n",
    "# a buoyancy force vector using the densityFn and the vertical unit vector. \n",
    "buoyancyFn = densityFn * z_hat"
   ]
  },
  {
   "cell_type": "markdown",
   "metadata": {},
   "source": [
    "Create initial & boundary conditions\n",
    "----------\n",
    "\n",
    "Set a sinusoidal perturbation in the temperature field to seed the onset of convection."
   ],
   "execution_count": null,
   "outputs": []
  },
  {
   "cell_type": "code",
   "execution_count": null,
   "metadata": {},
   "outputs": [],
   "source": [
    "pertStrength = 0.2\n",
    "deltaTemp = tempMax - tempMin\n",
    "for index, coord in enumerate(mesh.data):\n",
    "    pertCoeff = math.cos( math.pi * coord[0] ) * math.sin( math.pi * coord[1] )\n",
    "    temperatureField.data[index] = tempMin + deltaTemp*(boxHeight - coord[1]) + pertStrength * pertCoeff\n",
    "    temperatureField.data[index] = max(tempMin, min(tempMax, temperatureField.data[index]))"
   ]
  },
  {
   "cell_type": "markdown",
   "metadata": {},
   "source": [
    "Set top and bottom wall temperature boundary values.\n",
    "Create Direchlet, or fixed value, boundary conditions. More information on setting boundary conditions can be found in the **Systems** section of the user guide."
   ],
   "execution_count": null,
   "outputs": []
  },
  {
   "cell_type": "code",
   "execution_count": null,
   "metadata": {},
   "outputs": [],
   "source": [
    "bottomWall = mesh.specialSets[\"MinJ_VertexSet\"]\n",
    "topWall    = mesh.specialSets[\"MaxJ_VertexSet\"]\n",
    "leftWall   = mesh.specialSets[\"MinI_VertexSet\"]\n",
    "rightWall  = mesh.specialSets[\"MaxI_VertexSet\"]\n",
    "\n",
    "for index in bottomWall:\n",
    "    temperatureField.data[index] = tempMax\n",
    "for index in topWall:\n",
    "    temperatureField.data[index] = tempMin\n",
    "    \n",
    "# Construct sets for I (vertical) and J (horizontal) walls.\n",
    "iWalls = leftWall   + rightWall\n",
    "jWalls = bottomWall + topWall"
   ]
  },
  {
   "cell_type": "code",
   "execution_count": null,
   "metadata": {},
   "outputs": [],
   "source": [
    "# 2D velocity vector can have two Dirichlet conditions on each vertex, \n",
    "# v_x is fixed on the iWalls (vertical), v_y is fixed on the jWalls (horizontal)\n",
    "velBC  = uw.conditions.DirichletCondition( variable        = velocityField, \n",
    "                                           indexSetsPerDof = (iWalls, jWalls) )\n",
    "\n",
    "# Temperature is held constant on the jWalls\n",
    "tempBC = uw.conditions.DirichletCondition( variable        = temperatureField, \n",
    "                                           indexSetsPerDof = (jWalls,) )"
   ]
  },
  {
   "cell_type": "markdown",
   "metadata": {},
   "source": [
    "**Render initial conditions for temperature**\n"
   ],
   "execution_count": null,
   "outputs": []
  },
  {
   "cell_type": "code",
   "execution_count": null,
   "metadata": {
    "scrolled": false
   },
   "outputs": [],
   "source": [
    "figtemp = vis.Figure( figsize=(800,400) )\n",
    "figtemp.append( vis.objects.Surface(mesh, temperatureField, colours=\"blue white red\") )\n",
    "figtemp.append( vis.objects.Mesh(mesh) )\n",
    "figtemp.show()"
   ]
  },
  {
   "cell_type": "markdown",
   "metadata": {},
   "source": [
    "System setup\n",
    "-----\n",
    "\n",
    "**Setup a Stokes system**\n",
    "\n",
    "Underworld uses the Stokes system to solve the incompressible Stokes equations.  "
   ],
   "execution_count": null,
   "outputs": []
  },
  {
   "cell_type": "code",
   "execution_count": null,
   "metadata": {},
   "outputs": [],
   "source": [
    "stokes = uw.systems.Stokes( velocityField = velocityField, \n",
    "                            pressureField = pressureField,\n",
    "                            conditions    = velBC,\n",
    "                            fn_viscosity  = viscosity, \n",
    "                            fn_bodyforce  = buoyancyFn )\n",
    "\n",
    "# get the default stokes equation solver\n",
    "solver = uw.systems.Solver( stokes )"
   ]
  },
  {
   "cell_type": "markdown",
   "metadata": {},
   "source": [
    "**Set up the advective diffusive system**\n",
    "\n",
    "Underworld uses the AdvectionDiffusion system to solve the temperature field given heat transport through the velocity field. More information on the advection diffusion solver can be found in the **Systems** section of the user guide"
   ],
   "execution_count": null,
   "outputs": []
  },
  {
   "cell_type": "code",
   "execution_count": null,
   "metadata": {},
   "outputs": [],
   "source": [
    "advDiff = uw.systems.AdvectionDiffusion( phiField       = temperatureField, \n",
    "                                         phiDotField    = temperatureDotField, \n",
    "                                         velocityField  = velocityField, \n",
    "                                         fn_diffusivity = 1.0, \n",
    "                                         conditions     = tempBC )"
   ]
  },
  {
   "cell_type": "markdown",
   "metadata": {},
   "source": [
    "Main time stepping loop\n",
    "-----"
   ],
   "execution_count": null,
   "outputs": []
  },
  {
   "cell_type": "code",
   "execution_count": null,
   "metadata": {},
   "outputs": [],
   "source": [
    "# define an update function\n",
    "def update():\n",
    "    # Retrieve the maximum possible timestep for the advection-diffusion system.\n",
    "    dt = advDiff.get_max_dt()\n",
    "    # Advect using this timestep size.\n",
    "    advDiff.integrate(dt)\n",
    "    return time+dt, step+1"
   ]
  },
  {
   "cell_type": "code",
   "execution_count": null,
   "metadata": {},
   "outputs": [],
   "source": [
    "# init these guys\n",
    "time = 0.\n",
    "step = 0\n",
    "steps_end = 20\n",
    "\n",
    "# perform timestepping\n",
    "while step < steps_end:\n",
    "    # Solve for the velocity field given the current temperature field.\n",
    "    solver.solve()\n",
    "    time, step = update()"
   ]
  },
  {
   "cell_type": "markdown",
   "metadata": {},
   "source": [
    "**Plot final temperature and velocity field**"
   ],
   "execution_count": null,
   "outputs": []
  },
  {
   "cell_type": "code",
   "execution_count": null,
   "metadata": {},
   "outputs": [],
   "source": [
    "# plot figure\n",
    "figtemp = vis.Figure( figsize=(800,400) )\n",
    "figtemp.append( vis.objects.Surface(mesh, temperatureField, colours=\"blue white red\") )\n",
    "figtemp.append( vis.objects.VectorArrows(mesh, velocityField/100.0, arrowHead=0.2, scaling=0.1) )\n",
    "figtemp.show()"
   ]
  },
  {
   "cell_type": "code",
   "execution_count": null,
   "metadata": {},
   "outputs": [],
   "source": [
    "# This cell is for testing purposes. It ensures the example computes the expected flow velocity rms values\n",
    "import numpy as np\n",
    "\n",
    "if not np.isclose(stokes.velocity_rms(), 8.70754e+01):\n",
    "    raise RuntimeError(\"The Velocity RMS {:.5e} is not close to expected value\".format(stokes.velocity_rms()))"
   ]
  }
 ],
 "metadata": {
  "kernelspec": {
   "display_name": "Python 3",
   "language": "python",
   "name": "python3"
  },
  "language_info": {
   "codemirror_mode": {
    "name": "ipython",
    "version": 3
   },
   "file_extension": ".py",
   "mimetype": "text/x-python",
   "name": "python",
   "nbconvert_exporter": "python",
   "pygments_lexer": "ipython3",
   "version": "3.5.3"
  }
 },
 "nbformat": 4,
 "nbformat_minor": 1
}