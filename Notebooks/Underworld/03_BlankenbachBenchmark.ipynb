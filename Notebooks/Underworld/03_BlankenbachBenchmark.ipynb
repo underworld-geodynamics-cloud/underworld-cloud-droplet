{
 "cells": [
  {
   "cell_type": "markdown",
   "metadata": {},
   "source": [
    "Blankenbach Benchmark Case 1\n",
    "======\n",
    "\n",
    "Steady isoviscous thermal convection\n",
    "----\n",
    "\n",
    "Two-dimensional, incompressible, bottom heated, steady isoviscous thermal convection in a 1 x 1 box, see case 1 of Blankenbach *et al.* 1989 for details.\n",
    "\n",
    "![title](./images/blankenbach.png)\n",
    "\n",
    "**This example introduces:**\n",
    "1. Loading/Saving variables to disk.\n",
    "2. Defining analysis tools.\n",
    "3. Finding a steady state.\n",
    "\n",
    "**Keywords:** Stokes system, advective diffusive systems, analysis tools\n",
    "\n",
    "**References**\n",
    "\n",
    "B. Blankenbach, F. Busse, U. Christensen, L. Cserepes, D. Gunkel, U. Hansen, H. Harder, G. Jarvis, M. Koch, G. Marquart, D. Moore, P. Olson, H. Schmeling and T. Schnaubelt. A benchmark comparison for mantle convection codes. Geophysical Journal International, 98, 1, 23–38, 1989\n",
    "http://onlinelibrary.wiley.com/doi/10.1111/j.1365-246X.1989.tb05511.x/abstract\n"
   ],
   "execution_count": null,
   "outputs": []
  },
  {
   "cell_type": "code",
   "execution_count": null,
   "metadata": {},
   "outputs": [],
   "source": [
    "import underworld as uw\n",
    "from underworld import function as fn\n",
    "import underworld.visualisation as vis\n",
    "import math\n",
    "import numpy as np\n",
    "\n",
    "try:\n",
    "    from xvfbwrapper import Xvfb\n",
    "    vdisplay = Xvfb()\n",
    "    vdisplay.start()\n",
    "except:\n",
    "    pass"
   ]
  },
  {
   "cell_type": "markdown",
   "metadata": {},
   "source": [
    "Setup parameters\n",
    "-----"
   ],
   "execution_count": null,
   "outputs": []
  },
  {
   "cell_type": "code",
   "execution_count": null,
   "metadata": {},
   "outputs": [],
   "source": [
    "boxHeight = 1.0\n",
    "boxLength = 1.0\n",
    "# Set grid resolution.\n",
    "res = 128\n",
    "# Set max & min temperautres\n",
    "tempMin = 0.0\n",
    "tempMax = 1.0"
   ]
  },
  {
   "cell_type": "markdown",
   "metadata": {},
   "source": [
    "Choose which Rayleigh number, see case 1 of Blankenbach *et al.* 1989 for details."
   ],
   "execution_count": null,
   "outputs": []
  },
  {
   "cell_type": "code",
   "execution_count": null,
   "metadata": {},
   "outputs": [],
   "source": [
    "case = \"a\" \n",
    "if(case==\"a\"):\n",
    "    Ra=1.e4\n",
    "    eta0=1.e23\n",
    "elif(case==\"b\"):\n",
    "    Ra=1.e5\n",
    "    eta0=1.e22\n",
    "else: \n",
    "    Ra=1.e6\n",
    "    eta0=1.e21"
   ]
  },
  {
   "cell_type": "markdown",
   "metadata": {},
   "source": [
    "Set input and output file directory "
   ],
   "execution_count": null,
   "outputs": []
  },
  {
   "cell_type": "code",
   "execution_count": null,
   "metadata": {},
   "outputs": [],
   "source": [
    "inputPath  = 'input/1_03_BlankenbachBenchmark/'\n",
    "outputPath = 'output/'\n",
    "# Make output directory if necessary.\n",
    "if uw.mpi.rank==0:\n",
    "    import os\n",
    "    if not os.path.exists(outputPath):\n",
    "        os.makedirs(outputPath)"
   ]
  },
  {
   "cell_type": "markdown",
   "metadata": {},
   "source": [
    "Create mesh and variables\n",
    "------"
   ],
   "execution_count": null,
   "outputs": []
  },
  {
   "cell_type": "code",
   "execution_count": null,
   "metadata": {},
   "outputs": [],
   "source": [
    "mesh = uw.mesh.FeMesh_Cartesian( elementType = (\"Q1/dQ0\"), \n",
    "                                 elementRes  = (res, res), \n",
    "                                 minCoord    = (0., 0.), \n",
    "                                 maxCoord    = (boxLength, boxHeight))\n",
    "\n",
    "velocityField       = mesh.add_variable(         nodeDofCount=2 )\n",
    "pressureField       = mesh.subMesh.add_variable( nodeDofCount=1 )\n",
    "temperatureField    = mesh.add_variable(         nodeDofCount=1 )\n",
    "temperatureDotField = mesh.add_variable(         nodeDofCount=1 )\n",
    "\n",
    "# initialise velocity, pressure and temperatureDot field\n",
    "velocityField.data[:]       = [0.,0.]\n",
    "pressureField.data[:]       = 0.\n",
    "temperatureField.data[:]    = 0.\n",
    "temperatureDotField.data[:] = 0."
   ]
  },
  {
   "cell_type": "markdown",
   "metadata": {},
   "source": [
    "Set up material parameters and functions\n",
    "-----\n",
    "\n",
    "Set values and functions for viscosity, density and buoyancy force."
   ],
   "execution_count": null,
   "outputs": []
  },
  {
   "cell_type": "code",
   "execution_count": null,
   "metadata": {},
   "outputs": [],
   "source": [
    "# Set a constant viscosity.\n",
    "viscosity = 1.\n",
    "\n",
    "# Create our density function.\n",
    "densityFn = Ra * temperatureField\n",
    "\n",
    "# Define our vertical unit vector using a python tuple (this will be automatically converted to a function).\n",
    "z_hat = ( 0.0, 1.0 )\n",
    "\n",
    "# A buoyancy function.\n",
    "buoyancyFn = densityFn * z_hat"
   ]
  },
  {
   "cell_type": "markdown",
   "metadata": {},
   "source": [
    "Set initial temperature field\n",
    "-----\n",
    "The initial temperature field can be loaded from a pre-run steady state data set ( ``LoadFromFile = True`` ) or set to a sinusodial perterbation ( ``LoadFromFile = False`` )."
   ],
   "execution_count": null,
   "outputs": []
  },
  {
   "cell_type": "code",
   "execution_count": null,
   "metadata": {},
   "outputs": [],
   "source": [
    "# Steady state temperature field to be loaded from data file.\n",
    "LoadFromFile = True"
   ]
  },
  {
   "cell_type": "markdown",
   "metadata": {},
   "source": [
    "**If loading steady state data set**\n",
    "\n",
    "Data is stored in h5 format from a 64\\*64 grid resolution model.  Data has been saved for 3 different Rayleigh numbers, $Ra = 10^4$, $10^5$ or $10^6$. \n",
    "\n",
    "Once loaded the data will need to be re-meshed onto a new grid, unless the new resolution is also 64\\*64.\n",
    "\n",
    "For more information on using meshes see the user guide.\n"
   ],
   "execution_count": null,
   "outputs": []
  },
  {
   "cell_type": "code",
   "execution_count": null,
   "metadata": {},
   "outputs": [],
   "source": [
    "if(LoadFromFile == True):\n",
    "    # Setup mesh and temperature field for 64*64 data file.\n",
    "    mesh64 = uw.mesh.FeMesh_Cartesian( elementType = (\"Q1/dQ0\"), \n",
    "                                       elementRes  = (64, 64), \n",
    "                                       minCoord    = (0., 0.), \n",
    "                                       maxCoord    = (boxLength, boxHeight),\n",
    "                                       partitioned = False )\n",
    "    temperatureField64  = mesh64.add_variable( nodeDofCount=1 ) \n",
    "    \n",
    "    # read in saved steady state temperature field data\n",
    "    if( case == \"a\" ):\n",
    "        temperatureField64.load(inputPath+'tempfield_inp_64_Ra1e4.h5')\n",
    "        print('Loading 64*64 for Ra = 1e4')\n",
    "    elif( case == \"b\" ):\n",
    "        temperatureField64.load(inputPath+'tempfield_inp_64_Ra1e5.h5')\n",
    "        print('Loading 64*64 for Ra = 1e5')\n",
    "    else:\n",
    "        temperatureField64.load(inputPath+'tempfield_inp_64_Ra1e6.h5')\n",
    "        print('Loading 64*64 for Ra = 1e6')\n",
    "        \n",
    "    if( res==64 ): # no remeshing needed, copy directly\n",
    "        temperatureField.data[:] = temperatureField64.data[:]\n",
    "    else: # remeshing needed\n",
    "        temperatureField.data[:] = temperatureField64.evaluate(mesh)"
   ]
  },
  {
   "cell_type": "markdown",
   "metadata": {},
   "source": [
    "**If using sinusodial perturbation**"
   ],
   "execution_count": null,
   "outputs": []
  },
  {
   "cell_type": "code",
   "execution_count": null,
   "metadata": {},
   "outputs": [],
   "source": [
    "if(LoadFromFile == False):\n",
    "    temperatureField.data[:] = 0.\n",
    "    pertStrength = 0.1\n",
    "    deltaTemp = tempMax - tempMin\n",
    "    for index, coord in enumerate(mesh.data):\n",
    "        pertCoeff = math.cos( math.pi * coord[0]/boxLength ) * math.sin( math.pi * coord[1]/boxLength )\n",
    "        temperatureField.data[index] = tempMin + deltaTemp*(boxHeight - coord[1]) + pertStrength * pertCoeff\n",
    "        temperatureField.data[index] = max(tempMin, min(tempMax, temperatureField.data[index]))"
   ]
  },
  {
   "cell_type": "markdown",
   "metadata": {},
   "source": [
    "**Show initial temperature field**\n"
   ],
   "execution_count": null,
   "outputs": []
  },
  {
   "cell_type": "code",
   "execution_count": null,
   "metadata": {
    "scrolled": false
   },
   "outputs": [],
   "source": [
    "fig = vis.Figure()\n",
    "fig.append( vis.objects.Surface(mesh, temperatureField) )\n",
    "fig.show()"
   ]
  },
  {
   "cell_type": "markdown",
   "metadata": {},
   "source": [
    "Create boundary conditions\n",
    "----------\n",
    "\n",
    "Set temperature boundary conditions on the bottom ( ``MinJ`` ) and top ( ``MaxJ`` )."
   ],
   "execution_count": null,
   "outputs": []
  },
  {
   "cell_type": "code",
   "execution_count": null,
   "metadata": {},
   "outputs": [],
   "source": [
    "for index in mesh.specialSets[\"MinJ_VertexSet\"]:\n",
    "    temperatureField.data[index] = tempMax\n",
    "for index in mesh.specialSets[\"MaxJ_VertexSet\"]:\n",
    "    temperatureField.data[index] = tempMin"
   ]
  },
  {
   "cell_type": "markdown",
   "metadata": {},
   "source": [
    "Construct sets for the both horizontal and vertical walls. Combine the sets of vertices to make the ``I`` (left and right side walls) and ``J`` (top and bottom walls) sets."
   ],
   "execution_count": null,
   "outputs": []
  },
  {
   "cell_type": "code",
   "execution_count": null,
   "metadata": {},
   "outputs": [],
   "source": [
    "iWalls = mesh.specialSets[\"MinI_VertexSet\"] + mesh.specialSets[\"MaxI_VertexSet\"]\n",
    "jWalls = mesh.specialSets[\"MinJ_VertexSet\"] + mesh.specialSets[\"MaxJ_VertexSet\"]\n",
    "\n",
    "freeslipBC = uw.conditions.DirichletCondition( variable        = velocityField, \n",
    "                                               indexSetsPerDof = (iWalls, jWalls) )\n",
    "tempBC     = uw.conditions.DirichletCondition( variable        = temperatureField, \n",
    "                                               indexSetsPerDof = (jWalls,) )"
   ]
  },
  {
   "cell_type": "markdown",
   "metadata": {},
   "source": [
    "System setup\n",
    "-----\n",
    "\n",
    "**Setup a Stokes system**\n"
   ],
   "execution_count": null,
   "outputs": []
  },
  {
   "cell_type": "code",
   "execution_count": null,
   "metadata": {},
   "outputs": [],
   "source": [
    "stokes = uw.systems.Stokes(    velocityField = velocityField, \n",
    "                               pressureField = pressureField,\n",
    "                               conditions    = [freeslipBC,],\n",
    "                               fn_viscosity  = viscosity, \n",
    "                               fn_bodyforce  = buoyancyFn )\n",
    "# get the default stokes equation solver\n",
    "solver = uw.systems.Solver( stokes )"
   ]
  },
  {
   "cell_type": "markdown",
   "metadata": {},
   "source": [
    "**Create an advection diffusion system**\n"
   ],
   "execution_count": null,
   "outputs": []
  },
  {
   "cell_type": "code",
   "execution_count": null,
   "metadata": {},
   "outputs": [],
   "source": [
    "advDiff = uw.systems.AdvectionDiffusion( phiField       = temperatureField, \n",
    "                                         phiDotField    = temperatureDotField, \n",
    "                                         velocityField  = velocityField, \n",
    "                                         fn_diffusivity = 1.0, \n",
    "                                         conditions     = [tempBC,] )"
   ]
  },
  {
   "cell_type": "markdown",
   "metadata": {},
   "source": [
    "Analysis tools\n",
    "-----"
   ],
   "execution_count": null,
   "outputs": []
  },
  {
   "cell_type": "markdown",
   "metadata": {
    "collapsed": true
   },
   "source": [
    "**Nusselt number**\n",
    "\n",
    "The Nusselt number is the ratio between convective and conductive heat transfer\n",
    "\n",
    "\\\\[\n",
    "Nu = -h \\frac{ \\int_0^l \\partial_z T (x, z=h) dx}{ \\int_0^l T (x, z=0) dx}\n",
    "\\\\]\n",
    "\n",
    "\n",
    "\n"
   ],
   "execution_count": null,
   "outputs": []
  },
  {
   "cell_type": "code",
   "execution_count": null,
   "metadata": {},
   "outputs": [],
   "source": [
    "nuTop    = uw.utils.Integral( fn=temperatureField.fn_gradient[1], \n",
    "                              mesh=mesh, integrationType='Surface', \n",
    "                              surfaceIndexSet=mesh.specialSets[\"MaxJ_VertexSet\"])\n",
    "\n",
    "nuBottom = uw.utils.Integral( fn=temperatureField,               \n",
    "                              mesh=mesh, integrationType='Surface', \n",
    "                              surfaceIndexSet=mesh.specialSets[\"MinJ_VertexSet\"])"
   ]
  },
  {
   "cell_type": "code",
   "execution_count": null,
   "metadata": {},
   "outputs": [],
   "source": [
    "nu = - nuTop.evaluate()[0]/nuBottom.evaluate()[0]\n",
    "print('Nusselt number = {0:.6f}'.format(nu))"
   ]
  },
  {
   "cell_type": "markdown",
   "metadata": {},
   "source": [
    "**RMS velocity**\n",
    "\n",
    "The root mean squared velocity is defined by intergrating over the entire simulation domain via\n",
    "\n",
    "\\\\[\n",
    "\\begin{aligned}\n",
    "v_{rms}  =  \\sqrt{ \\frac{ \\int_V (\\mathbf{v}.\\mathbf{v}) dV } {\\int_V dV} }\n",
    "\\end{aligned}\n",
    "\\\\]\n",
    "\n",
    "where $V$ denotes the volume of the box."
   ],
   "execution_count": null,
   "outputs": []
  },
  {
   "cell_type": "code",
   "execution_count": null,
   "metadata": {},
   "outputs": [],
   "source": [
    "intVdotV = uw.utils.Integral( fn.math.dot( velocityField, velocityField ), mesh )\n",
    "\n",
    "vrms = math.sqrt( intVdotV.evaluate()[0] )\n",
    "print('Initial vrms = {0:.3f}'.format(vrms))"
   ]
  },
  {
   "cell_type": "markdown",
   "metadata": {},
   "source": [
    "Main simulation loop\n",
    "-----"
   ],
   "execution_count": null,
   "outputs": []
  },
  {
   "cell_type": "markdown",
   "metadata": {},
   "source": [
    "If the initial conditions are loaded from file then this loop will only take a single step. If you would like to run the entire simulation from a small perturbation then change the ``LoadFromFile`` variable above to equal ``False``. Warning: the simulation will take a long time to get to steady state."
   ],
   "execution_count": null,
   "outputs": []
  },
  {
   "cell_type": "code",
   "execution_count": null,
   "metadata": {},
   "outputs": [],
   "source": [
    "#initialise time, step, output arrays\n",
    "time = 0.\n",
    "step = 0\n",
    "timeVal = []\n",
    "vrmsVal = []\n",
    "\n",
    "# starting from steady state == True\n",
    "if(LoadFromFile == True):\n",
    "    step_end = 1\n",
    "else:\n",
    "    step_end = 5000\n",
    "\n",
    "# output frequency\n",
    "step_output = max(1,min(100, step_end/10))\n",
    "epsilon    = 1.e-8\n",
    "\n",
    "velplotmax = 0.0\n",
    "nuLast     = -1.0"
   ]
  },
  {
   "cell_type": "code",
   "execution_count": null,
   "metadata": {},
   "outputs": [],
   "source": [
    "# define an update function\n",
    "def update():\n",
    "    # Determining the maximum timestep for advancing the a-d system.\n",
    "    dt = advDiff.get_max_dt()\n",
    "    # Advect using this timestep size. \n",
    "    advDiff.integrate(dt)\n",
    "    return time+dt, step+1"
   ]
  },
  {
   "cell_type": "code",
   "execution_count": null,
   "metadata": {},
   "outputs": [],
   "source": [
    "# Perform steps.\n",
    "while step<=step_end:\n",
    "    # Solving the Stokes system.\n",
    "    solver.solve()\n",
    "    \n",
    "    # Calculate & store the RMS velocity and Nusselt number.\n",
    "    vrms = math.sqrt( intVdotV.evaluate()[0] )\n",
    "    nu   = - nuTop.evaluate()[0]/nuBottom.evaluate()[0]\n",
    "    vrmsVal.append(vrms)\n",
    "    timeVal.append(time)\n",
    "    velplotmax = max(vrms, velplotmax)\n",
    "\n",
    "    # print output statistics \n",
    "    if step%(step_end/step_output) == 0:\n",
    "        if(uw.mpi.rank==0):\n",
    "            print('steps = {0:6d}; time = {1:.3e}; v_rms = {2:.3f}; Nu = {3:.3f}; Rel change = {4:.3e}'\n",
    "              .format(step, time, vrms, nu, abs((nu - nuLast)/nu)))\n",
    "    # Check loop break conditions.\n",
    "    if(abs((nu - nuLast)/nu) < epsilon):\n",
    "        if(uw.mpi.rank==0):\n",
    "            print('steps = {0:6d}; time = {1:.3e}; v_rms = {2:.3f}; Nu = {3:.3f}; Rel change = {4:.3e}'\n",
    "              .format(step, time, vrms, nu, abs((nu - nuLast)/nu)))\n",
    "        break\n",
    "    nuLast = nu\n",
    "    \n",
    "    # update\n",
    "    time, step = update()"
   ]
  },
  {
   "cell_type": "markdown",
   "metadata": {},
   "source": [
    "Post analysis\n",
    "-----\n",
    "\n",
    "**Benchmark values**\n",
    "\n",
    "The time loop above outputs $v_{rms}$ and $Nu$ as general statistics for the system. For comparison, the benchmark values for the RMS velocity and Nusselt number are shown below for different Rayleigh numbers. All benchmark values shown below were determined in Blankenbach *et al.* 1989 by extroplation of numerical results. \n",
    "\n",
    "\n",
    "| $Ra$          | $v_{rms}$   | $Nu$  |   $q_1$  | $q_2$  |\n",
    "| ------------- |:-------------:|:-----:|:-----:|:-----:|\n",
    "| 10$^4$ | 42.865 |  4.884 | 8.059 | 0.589 |\n",
    "| 10$^5$ | 193.215 | 10.535 | 19.079 | 0.723 |\n",
    "| 10$^6$ | 833.990 | 21.972 | 45.964 | 0.877 |\n"
   ],
   "execution_count": null,
   "outputs": []
  },
  {
   "cell_type": "code",
   "execution_count": null,
   "metadata": {},
   "outputs": [],
   "source": [
    "# Let's add a test to ensure things are working as expected\n",
    "if case == \"a\":\n",
    "    if not np.isclose(nu,4.884,rtol=1.e-2):\n",
    "        raise RuntimeError(\"Model did not produce the expected Nusselt number.\")\n",
    "    if not np.isclose(vrms,42.865,rtol=1.e-2):\n",
    "        raise RuntimeError(\"Model did not produce the expected Nusselt number.\")"
   ]
  },
  {
   "cell_type": "markdown",
   "metadata": {},
   "source": [
    "**Resulting pressure field**\n",
    "\n",
    "Use the same method as above to plot the new temperature field. This can also be used to plot the pressure field, or any other data structures of interest."
   ],
   "execution_count": null,
   "outputs": []
  },
  {
   "cell_type": "code",
   "execution_count": null,
   "metadata": {},
   "outputs": [],
   "source": [
    "figtemp = vis.Figure()\n",
    "figtemp.append( vis.objects.Surface( mesh, pressureField ) )\n",
    "figtemp.show()"
   ]
  },
  {
   "cell_type": "markdown",
   "metadata": {},
   "source": [
    "**Plot the velocity vector field**\n",
    "\n",
    "For this example the velocity field is interesting to see. This is visualised in two ways, firstly plotting a surface colour map of the velocity magnitude, and secondly the velocity vectors at points on the mesh. For aesthetics the vector arrows are scaled by a little more than the maximum $v_{rms}$ value found in the time loop above."
   ],
   "execution_count": null,
   "outputs": []
  },
  {
   "cell_type": "code",
   "execution_count": null,
   "metadata": {},
   "outputs": [],
   "source": [
    "fig2 = vis.Figure()\n",
    "velmagfield = uw.function.math.sqrt( uw.function.math.dot( velocityField, velocityField ) )\n",
    "fig2.append( vis.objects.VectorArrows(mesh, velocityField/(2.5*velplotmax), arrowHead=0.2, scaling=0.1) )\n",
    "fig2.append( vis.objects.Surface(mesh, temperatureField) )\n",
    "fig2.show()"
   ]
  },
  {
   "cell_type": "markdown",
   "metadata": {},
   "source": [
    "Parallel friendly post analysis\n",
    "----\n",
    "\n",
    "When running underworld in parallel the data of each mesh variable is spread across all the processors. However often we will want to calculate a quantity based on data at specific points that may not all be on the same processor.\n",
    "\n",
    "A solution is presented here which consists of saving the data from all processors to file, then reloading the mesh variable data using a new non-partitioned mesh. This enables all the data to be available to each processor. We will the carry out the post analysis using the first processor.\n",
    "\n",
    "**Save temperature, pressure and velocity data**\n",
    "\n",
    "Save the basic mesh variable data to files using the HDF5 format. This is the same file type as is loaded above."
   ],
   "execution_count": null,
   "outputs": []
  },
  {
   "cell_type": "code",
   "execution_count": null,
   "metadata": {},
   "outputs": [],
   "source": [
    "mesh.save(outputPath+\"mesh.h5\")\n",
    "temperatureField.save(outputPath+'tempfield.h5')\n",
    "pressureField.save(outputPath+'presfield.h5')\n",
    "velocityField.save(outputPath+'velfield.h5')"
   ]
  },
  {
   "cell_type": "markdown",
   "metadata": {},
   "source": [
    "**Construct new mesh and variable on non-partitioned mesh**\n",
    "\n",
    "Read saved mesh variable data into a new mesh variable where the information is not partitioned across multiple processors. This means that we can use a single processor to access all the data and calculate some quantities of interest."
   ],
   "execution_count": null,
   "outputs": []
  },
  {
   "cell_type": "code",
   "execution_count": null,
   "metadata": {},
   "outputs": [],
   "source": [
    "# build a non-partitioned mesh with same box size\n",
    "mesh0 = uw.mesh.FeMesh_Cartesian( elementType = (\"Q1/dQ0\"), \n",
    "                                  elementRes  = (res, res), \n",
    "                                  minCoord    = (0., 0.), \n",
    "                                  maxCoord    = (boxLength, boxHeight),\n",
    "                                  partitioned = False ) \n",
    "# load previous mesh coordinate data onto new non-partitioned mesh\n",
    "mesh0.load(outputPath+'mesh.h5')\n",
    "\n",
    "# load T, P and V data onto the new mesh\n",
    "# note that pressure is always on the submesh\n",
    "temperatureField0  = mesh0.add_variable( nodeDofCount=1 ) \n",
    "pressureField0     = mesh0.subMesh.add_variable( nodeDofCount=1 ) \n",
    "velocityField0     = mesh0.add_variable( nodeDofCount=2 ) \n",
    "temperatureField0.load(outputPath+\"tempfield.h5\")\n",
    "pressureField0.load(outputPath+\"presfield.h5\")\n",
    "velocityField0.load(outputPath+\"velfield.h5\")"
   ]
  },
  {
   "cell_type": "markdown",
   "metadata": {},
   "source": [
    "**Temperature gradient**\n",
    "\n",
    "The final benchmarks in the Blankenbach paper involve the temperature gradient in the vertical direction ($\\frac{\\partial T}{\\partial z}$). This is easy to find using the underworld functions, as shown below.\n"
   ],
   "execution_count": null,
   "outputs": []
  },
  {
   "cell_type": "code",
   "execution_count": null,
   "metadata": {
    "scrolled": false
   },
   "outputs": [],
   "source": [
    "if(uw.mpi.rank==0):\n",
    "    tempgradField = temperatureField0.fn_gradient\n",
    "    vertTGradField = - boxHeight * tempgradField[1] / tempMax # scaled for direct benchmarking below"
   ]
  },
  {
   "cell_type": "markdown",
   "metadata": {},
   "source": [
    "**More benchmark values**\n",
    "\n",
    "\n",
    "The vertical temperature gradient (above) is set up to be non-dimensional as per Blankenbach et al 1989. To compare to the benchmark values in their work the gradient is compared at the corners of the simulation box: $q_1$ at $x = 0$, $z = h$; $q_2$ at $x = l$, $z = h$; $q_3$ at $x = l$, $z = 0$; $q_4$ at $x = 0$, $z = 0$. Where $h$ = Box_Height and $l$ = Box_Length and the non-dimensional gradient field is given by\n",
    "\\\\[\n",
    "q = \\frac{-h}{\\Delta T} \\left( \\frac{\\partial T}{\\partial z} \\right)\n",
    "\\\\]\n",
    "\n",
    "Provided the simulation is run to steady-state with sufficent resolution then the $q$ values should be close to the benchmark values given again below for different Rayleigh numbers.\n",
    "\n",
    "| $Ra$          |    $q_1$  | $q_2$  |\n",
    "| ------------- |:-----:|:-----:|\n",
    "| 10$^4$ | 8.059 | 0.589 |\n",
    "| 10$^5$ | 19.079 | 0.723 |\n",
    "| 10$^6$ | 45.964 | 0.877 |\n"
   ],
   "execution_count": null,
   "outputs": []
  },
  {
   "cell_type": "code",
   "execution_count": null,
   "metadata": {},
   "outputs": [],
   "source": [
    "if(uw.mpi.rank==0):\n",
    "    q1 = vertTGradField.evaluate( (0., boxHeight))[0][0]\n",
    "    q2 = vertTGradField.evaluate( (boxLength, boxHeight))[0][0]\n",
    "    q3 = vertTGradField.evaluate( (boxLength, 0.))[0][0]\n",
    "    q4 = vertTGradField.evaluate( (0., 0.))[0][0]\n",
    "\n",
    "    print('Rayleigh number = {0:.1e}'.format(Ra))\n",
    "    print('q1 = {0:.3f}; q2 = {1:.3f}'.format(q1, q2))\n",
    "    print('q3 = {0:.3f}; q4 = {1:.3f}'.format(q3, q4))"
   ]
  },
  {
   "cell_type": "code",
   "execution_count": null,
   "metadata": {},
   "outputs": [],
   "source": [
    "# Let's add a test to ensure things are working as expected\n",
    "if case == \"a\":\n",
    "    if not np.isclose(q1,8.020,rtol=1.e-2):\n",
    "        raise RuntimeError(\"Model did not produce the expected q1.\")\n",
    "    if not np.isclose(q2,0.589,rtol=1.e-2):\n",
    "        raise RuntimeError(\"Model did not produce the expected q2.\")"
   ]
  },
  {
   "cell_type": "markdown",
   "metadata": {},
   "source": [
    "**Save time and rms values**\n",
    "\n",
    "The following command uses the ``numpy`` package save to text file function to output all $v_{RMS}$ values as a function of time. This is particularly useful if you have run the simulation from the perturbed initial condition rather than the saved data file, as you can see the system coming to steady state.\n",
    "\n",
    "The format for this text file is:\n",
    "\n",
    "    timeVal[0], vrmsVal[0]\n",
    "    timeVal[1], vrmsVal[1]\n",
    "    ...\n",
    "    timeVal[N], vrmsVal[N]"
   ],
   "execution_count": null,
   "outputs": []
  },
  {
   "cell_type": "code",
   "execution_count": null,
   "metadata": {},
   "outputs": [],
   "source": [
    "if(uw.mpi.rank==0):\n",
    "    np.savetxt(outputPath+'vrms.txt', np.c_[timeVal, vrmsVal], header=\"Time, VRMS\" )"
   ]
  },
  {
   "cell_type": "markdown",
   "metadata": {},
   "source": [
    "**Calculate stress values for benchmark comparison**\n",
    "\n",
    "\n",
    "Determine stress field for whole box in dimensionless units (King 2009)\n",
    "\\begin{equation}\n",
    "\\tau_{ij} = \\eta \\frac{1}{2} \\left[ \\frac{\\partial v_j}{\\partial x_i} + \\frac{\\partial v_i}{\\partial x_j}\\right]\n",
    "\\end{equation}\n",
    "which for vertical normal stress becomes\n",
    "\\begin{equation}\n",
    "\\tau_{zz} = \\eta \\frac{1}{2} \\left[ \\frac{\\partial v_z}{\\partial z} + \\frac{\\partial v_z}{\\partial z}\\right] = \\eta \\frac{\\partial v_z}{\\partial z}\n",
    "\\end{equation}\n",
    "which is implemented for the whole box in the functions defined below."
   ],
   "execution_count": null,
   "outputs": []
  },
  {
   "cell_type": "code",
   "execution_count": null,
   "metadata": {},
   "outputs": [],
   "source": [
    "# get topography from non-partitioned stress tensor\n",
    "if(uw.mpi.rank==0):\n",
    "    stresstensorFn = 2.* stokes.fn_viscosity*fn.tensor.symmetric( velocityField0.fn_gradient ) - (1.,1.,0.)*pressureField0\n",
    "    verticalStressFn  = stresstensorFn[1]\n",
    "    stress_zz_top     = -verticalStressFn.evaluate(mesh0.specialSets[\"MaxJ_VertexSet\"])\n",
    "\n",
    "# subtract the average value for benchmark.\n",
    "    mean_sigma_zz_top = np.mean(stress_zz_top)\n",
    "    sigma_zz_top      = stress_zz_top - mean_sigma_zz_top"
   ]
  },
  {
   "cell_type": "markdown",
   "metadata": {},
   "source": [
    "Dimensionalise the stress from the vertical normal stress at the top of the box (King 2009)\n",
    "\n",
    "$$\n",
    "    \\sigma_{t} = \\frac{\\eta_0 \\kappa}{\\rho g h^2}\\tau _{zz} \\left( x, z=h\\right)\n",
    "$$\n",
    "\n",
    "where all constants have been defined above. Finally calculate the topography, defined using $h = \\sigma_{top} / (\\rho g)$."
   ],
   "execution_count": null,
   "outputs": []
  },
  {
   "cell_type": "code",
   "execution_count": null,
   "metadata": {},
   "outputs": [],
   "source": [
    "# Set parameters in SI units\n",
    "if(uw.mpi.rank==0):\n",
    "    grav = 10        # m.s^-2\n",
    "    height = 1.e6    # m \n",
    "    rho  = 4.0e3     # g.m^-3\n",
    "    kappa  = 1.0e-6  # m^2.s^-1\n",
    "\n",
    "# dimensionalise \n",
    "    dim_sigma_zz_top  = (eta0 * kappa / (height*height)) * sigma_zz_top\n",
    "\n",
    "# find topography in [m]\n",
    "    topography        = dim_sigma_zz_top / (rho * grav) "
   ]
  },
  {
   "cell_type": "markdown",
   "metadata": {},
   "source": [
    "**Calculate x-coordinate at zero stress**\n",
    "\n",
    "Calculate the zero point for the stress along the x-axis at the top of the box using the **interpolation function** from ``numpy``. Note that ``numpy`` requires that the first array input for ``np.interp`` must be increasing, so the negative of the topography is used."
   ],
   "execution_count": null,
   "outputs": []
  },
  {
   "cell_type": "code",
   "execution_count": null,
   "metadata": {},
   "outputs": [],
   "source": [
    "if(uw.mpi.rank==0):\n",
    "    xCoordFn = fn.input()[0]\n",
    "    x = xCoordFn.evaluate(mesh0.specialSets[\"MinJ_VertexSet\"])\n",
    "    xIntercept = np.interp(0.0,-1.0*topography[:, 0],x[:, 0])"
   ]
  },
  {
   "cell_type": "markdown",
   "metadata": {},
   "source": [
    "**Topography comparison**\n",
    "\n",
    "Topography of the top boundary calculated in the left and right corners as given in Table 9 of Blankenbach et al 1989.\n",
    "\n",
    "| $Ra$          |    $\\xi_1$  | $\\xi_2$  |  $x$ ($\\xi = 0$) |\n",
    "| ------------- |:-----------:|:--------:|:--------------:|\n",
    "| 10$^4$  | 2254.02   | -2903.23  | 0.539372          |\n",
    "| 10$^5$  | 1460.99   | -2004.20  | 0.529330          |\n",
    "| 10$^6$  | 931.96   | -1283.80  | 0.506490          |\n"
   ],
   "execution_count": null,
   "outputs": []
  },
  {
   "cell_type": "code",
   "execution_count": null,
   "metadata": {},
   "outputs": [],
   "source": [
    "if(uw.mpi.rank==0):\n",
    "    e1 = float(topography[0])\n",
    "    e2 = float(topography[len(topography)-1])\n",
    "    print('Rayleigh number = {0:.1e}'.format(Ra))\n",
    "    print('Topography[x=0],[x=max] = {0:.2f}, {1:.2f}'.format(e1, e2))\n",
    "    print('x(topo=0) = {0:.6f}'.format(xIntercept))\n",
    "    # output a summary file with benchmark values (useful for parallel runs)\n",
    "    np.savetxt(outputPath+'summary.txt', [Ra, e1, e2, xIntercept, q1, q2, q3, q4])"
   ]
  },
  {
   "cell_type": "code",
   "execution_count": null,
   "metadata": {},
   "outputs": [],
   "source": [
    "# Let's add a test to ensure things are working as expected\n",
    "if case == \"a\":\n",
    "    if not np.isclose(e1,2254.02,rtol=1.e-2):\n",
    "        raise RuntimeError(\"Model did not produce the expected xi1.\")\n",
    "    if not np.isclose(e2,-2903.23,rtol=1.e-2):\n",
    "        raise RuntimeError(\"Model did not produce the expected xi2.\")"
   ]
  }
 ],
 "metadata": {
  "kernelspec": {
   "display_name": "Python 3",
   "language": "python",
   "name": "python3"
  },
  "language_info": {
   "codemirror_mode": {
    "name": "ipython",
    "version": 3
   },
   "file_extension": ".py",
   "mimetype": "text/x-python",
   "name": "python",
   "nbconvert_exporter": "python",
   "pygments_lexer": "ipython3",
   "version": "3.7.6-final"
  }
 },
 "nbformat": 4,
 "nbformat_minor": 1
}