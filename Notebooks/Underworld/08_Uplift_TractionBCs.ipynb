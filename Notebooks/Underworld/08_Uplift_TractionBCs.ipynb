{
 "cells": [
  {
   "cell_type": "markdown",
   "metadata": {},
   "source": [
    "# 2D Uplift model\n",
    "\n",
    "\n",
    "<table><tr><td><img src='./images/Uplift-0.png'></td><td><img src='./images/Uplift-56.png'></td></tr></table>\n",
    "(Left) Initial model setup. (Right) Model with steady state topography induced by basal traction condition (Stokes system's neumann condition).\n",
    "\n",
    "#### This model utilises scaling to enable model input in dimensional units but model computation and output in scaled units."
   ],
   "execution_count": null,
   "outputs": []
  },
  {
   "cell_type": "code",
   "execution_count": null,
   "metadata": {
    "scrolled": true
   },
   "outputs": [],
   "source": [
    "import numpy as np\n",
    "import underworld as uw\n",
    "import math\n",
    "from underworld import function as fn\n",
    "from underworld.scaling import units as u\n",
    "from underworld.scaling import dimensionalise, non_dimensionalise\n",
    "import underworld.visualisation as vis\n",
    "import os\n",
    "\n",
    "model_end_step   = 3\n",
    "output_path      = 'uplift/'\n",
    "elType           = 'Q1/dQ0'\n",
    "resolution       = (100,60)\n",
    "    \n",
    "# search and build, if required, an output path\n",
    "if uw.mpi.rank==0:\n",
    "    try:\n",
    "        if not os.path.exists(\"./\"+output_path+\"/\"):\n",
    "            os.makedirs(\"./\"+output_path+'/')\n",
    "    except:\n",
    "        raise\n",
    "\n",
    "try:\n",
    "    from xvfbwrapper import Xvfb\n",
    "    vdisplay = Xvfb()\n",
    "    vdisplay.start()\n",
    "except:\n",
    "    pass"
   ]
  },
  {
   "cell_type": "code",
   "execution_count": null,
   "metadata": {},
   "outputs": [],
   "source": [
    "# build reference units\n",
    "KL_meters   = 100e3 * u.meter\n",
    "K_viscosity = 1e16  * u.pascal * u.second\n",
    "K_density   = 3.3e3 * u.kilogram / (u.meter)**3"
   ]
  },
  {
   "cell_type": "code",
   "execution_count": null,
   "metadata": {},
   "outputs": [],
   "source": [
    "# compute dependent scaling units \n",
    "KM_kilograms = K_density * KL_meters**3\n",
    "KT_seconds   = KM_kilograms / ( KL_meters * K_viscosity )\n",
    "K_substance  = 1. * u.mole\n",
    "Kt_degrees   = 1. * u.kelvin\n",
    "\n",
    "scaling_coefficients = uw.scaling.get_coefficients()\n",
    "scaling_coefficients[\"[length]\"]      = KL_meters.to_base_units()\n",
    "scaling_coefficients[\"[temperature]\"] = Kt_degrees.to_base_units()\n",
    "scaling_coefficients[\"[time]\"]        = KT_seconds.to_base_units()\n",
    "scaling_coefficients[\"[mass]\"]        = KM_kilograms.to_base_units()"
   ]
  },
  {
   "cell_type": "code",
   "execution_count": null,
   "metadata": {},
   "outputs": [],
   "source": [
    "# all physical model parameters. Input as dimensional units, but scaled via `uw.nonDimensionalise()`\n",
    "gravity   = non_dimensionalise( 9.81 * u.meter / u.second**2)\n",
    "density   = non_dimensionalise( 3300 * u.kilogram / u.meter**3)\n",
    "viscosity = non_dimensionalise( 1e22 * u.Pa * u.sec)\n",
    "bulk_visc = non_dimensionalise( 1e11 * u.Pa *u.sec)\n",
    "Lx        = non_dimensionalise( 100e3 * u.meter)\n",
    "Ly        = non_dimensionalise( 60e3 * u.meter)\n",
    "\n",
    "# traction perturbation parameters\n",
    "xp        = non_dimensionalise( 50e3 * u.meter)\n",
    "width     = non_dimensionalise( 3e3  * u.meter)\n",
    "\n",
    "# compute lithostatic load a prior\n",
    "lithostaticPressure = 0.6*Ly*density*gravity"
   ]
  },
  {
   "cell_type": "code",
   "execution_count": null,
   "metadata": {},
   "outputs": [],
   "source": [
    "# build mesh and mesh variables\n",
    "mesh = uw.mesh.FeMesh_Cartesian( elementType = elType, \n",
    "                                 elementRes  = resolution, \n",
    "                                 minCoord    = [0.,0.], \n",
    "                                 maxCoord    = [Lx,Ly] )\n",
    "\n",
    "bottomWall = mesh.specialSets[\"Bottom_VertexSet\"]\n",
    "topWall    = mesh.specialSets[\"Top_VertexSet\"]\n",
    "iWalls     = mesh.specialSets[\"Left_VertexSet\"] + mesh.specialSets[\"Right_VertexSet\"]\n",
    "\n",
    "velocityField = mesh.add_variable( nodeDofCount=mesh.dim )\n",
    "tractionField = mesh.add_variable( nodeDofCount=2 )\n",
    "pressureField = mesh.subMesh.add_variable( nodeDofCount=1 )"
   ]
  },
  {
   "cell_type": "code",
   "execution_count": null,
   "metadata": {},
   "outputs": [],
   "source": [
    "# Traction is force per unit area associated with a specific surface \n",
    "# ie, traction = stress * surface_unit_normal\n",
    "for ii in bottomWall:\n",
    "    coord = mesh.data[ii]\n",
    "    tractionField.data[ii] = [0.0,lithostaticPressure*(1.+0.2*np.exp((-1/width*(coord[0]-xp)**2)))]"
   ]
  },
  {
   "cell_type": "code",
   "execution_count": null,
   "metadata": {},
   "outputs": [],
   "source": [
    "# visualise the bottom stress condition\n",
    "if uw.mpi.size == 1:\n",
    "    uw.utils.matplotlib_inline()\n",
    "    import matplotlib.pyplot as pyplot\n",
    "    import matplotlib.pylab as pylab\n",
    "    pyplot.ion()\n",
    "    pylab.rcParams[ 'figure.figsize'] = 12, 6\n",
    "    pyplot.title('Prescribed traction component normal to base wall')\n",
    "    km_scaling  = dimensionalise(1,u.kilometer)\n",
    "    MPa_scaling = dimensionalise(1,u.MPa)\n",
    "    pyplot.xlabel('X coordinate - (x{}km)'.format(km_scaling.magnitude))\n",
    "    pyplot.ylabel('Normal basal traction MPa - (x{:.3e}MPa)'.format(MPa_scaling.magnitude))\n",
    "    \n",
    "    xcoord = mesh.data[bottomWall.data][:,0]          # x coordinate\n",
    "    stress = tractionField.data[bottomWall.data][:,1] # 2nd component of the traction along the bottom wall\n",
    "    \n",
    "    pyplot.plot( xcoord, stress, 'o', color = 'black', label='numerical') \n",
    "    pyplot.show()"
   ]
  },
  {
   "cell_type": "code",
   "execution_count": null,
   "metadata": {},
   "outputs": [],
   "source": [
    "# Initialise a swarm.\n",
    "swarm = uw.swarm.Swarm( mesh=mesh, particleEscape=True )\n",
    "advector= uw.systems.SwarmAdvector(velocityField, swarm, order=2)\n",
    "\n",
    "# Add a data variable which will store an index to determine material.\n",
    "materialVariable = swarm.add_variable( dataType=\"double\", count=1 )\n",
    "\n",
    "# Create a layout object that will populate the swarm across the whole domain.\n",
    "swarmLayout = uw.swarm.layouts.PerCellSpaceFillerLayout( swarm=swarm, particlesPerCell=20 )\n",
    "# Populate.\n",
    "swarm.populate_using_layout( layout=swarmLayout )\n",
    "\n",
    "# material 0 - compressible Lambda=10, density = 0\n",
    "# material 1 - incompressible Lambda=0, density = 1\n",
    "\n",
    "materialVariable.data[:]=0\n",
    "for index,coord in enumerate(swarm.particleCoordinates.data):\n",
    "    if coord[1] < Ly*0.6:\n",
    "        materialVariable.data[index]=1\n",
    "\n",
    "# population control regulars particle creation and deletion\n",
    "# important for inflow/outflow problems\n",
    "population_control = uw.swarm.PopulationControl(swarm, \n",
    "                                                aggressive=True,splitThreshold=0.15, maxDeletions=2,maxSplits=10,\n",
    "                                                particlesPerCell=20)\n",
    "\n",
    "# build tracer swarm for fluid level - only 1 particle\n",
    "mswarm = uw.swarm.Swarm( mesh=mesh, particleEscape=True )\n",
    "msAdvector= uw.systems.SwarmAdvector(velocityField, mswarm, order=2)\n",
    "\n",
    "# initial height at 'air' level\n",
    "particleCoordinates = np.zeros((1,2))\n",
    "particleCoordinates[:,0] = 0.5*Lx\n",
    "particleCoordinates[:,1] = 0.6*Ly\n",
    "ignore=mswarm.add_particles_with_coordinates(particleCoordinates)\n",
    "\n",
    "# parallel safe way of finding the particles vertical coordinate.\n",
    "fn_y = fn.coord()[1]\n",
    "fn_y_minmax = fn.view.min_max(fn_y)"
   ]
  },
  {
   "cell_type": "code",
   "execution_count": null,
   "metadata": {},
   "outputs": [],
   "source": [
    "# Visualise the result\n",
    "vdotv  = fn.math.dot(velocityField,velocityField)\n",
    "velmag = fn.math.sqrt(vdotv)\n",
    "\n",
    "cm_per_year = dimensionalise(1,u.centimeter/u.year)\n",
    "\n",
    "fig1 = vis.Figure(title=\"Uplift map - scaled viz\", figsize=(700,400), quality=2, rulers=True)\n",
    "fig1.append( vis.objects.Points(mswarm, colourBar=False ) )\n",
    "fig1.append( vis.objects.Points(swarm, materialVariable, fn_size=2.,colourBar = False  ) )\n",
    "fig1.append( vis.objects.VectorArrows(mesh, cm_per_year.magnitude*0.1*velocityField) )\n",
    "\n",
    "fig1.show()"
   ]
  },
  {
   "cell_type": "code",
   "execution_count": null,
   "metadata": {},
   "outputs": [],
   "source": [
    "# lambdaFn is created for pseudo compressible air layer\n",
    "lambdaFn = uw.function.branching.map( fn_key=materialVariable, \n",
    "                                    mapping={ 0: 1/bulk_visc, 1: 0.0 } )\n",
    "\n",
    "densityFn = uw.function.branching.map( fn_key=materialVariable, \n",
    "                                    mapping={ 0: 0.0, 1: density } )\n",
    "\n",
    "forceFn = densityFn * (0.0,-gravity)"
   ]
  },
  {
   "cell_type": "code",
   "execution_count": null,
   "metadata": {},
   "outputs": [],
   "source": [
    "# assign degrees of freedom (on each node) to be considered Dirichlet.\n",
    "stokesBC = uw.conditions.DirichletCondition( variable      = velocityField, \n",
    "                                             indexSetsPerDof = (iWalls, topWall) )\n",
    "\n",
    "# assign neumann bcs\n",
    "nbc      = uw.conditions.NeumannCondition( fn_flux=tractionField, variable = velocityField, \n",
    "                                             indexSetsPerDof = (None, bottomWall ) )"
   ]
  },
  {
   "cell_type": "code",
   "execution_count": null,
   "metadata": {},
   "outputs": [],
   "source": [
    "# setup solver\n",
    "stokesPIC = uw.systems.Stokes( velocityField = velocityField, \n",
    "                               pressureField = pressureField,\n",
    "                               conditions    = [stokesBC, nbc],\n",
    "                               fn_viscosity  = viscosity, \n",
    "                               fn_bodyforce  = forceFn,\n",
    "                               fn_one_on_lambda = lambdaFn )\n",
    "solver = uw.systems.Solver( stokesPIC )"
   ]
  },
  {
   "cell_type": "code",
   "execution_count": null,
   "metadata": {},
   "outputs": [],
   "source": [
    "# fields / variable to save\n",
    "fieldDict = {'velocity':velocityField, 'pressure':pressureField}\n",
    "swarmDict = {'material':materialVariable}"
   ]
  },
  {
   "cell_type": "code",
   "execution_count": null,
   "metadata": {
    "scrolled": true
   },
   "outputs": [],
   "source": [
    "# record output\n",
    "outfile = open(output_path+'buildMount.txt', 'w+')\n",
    "string = \"steps, timestep, vrms, peak height\"\n",
    "if uw.mpi.rank==0:\n",
    "    print(string)\n",
    "    outfile.write( string+\"\\n\")\n",
    "\n",
    "# initialise loop\n",
    "fn_y_minmax.reset()\n",
    "fn_y_minmax.evaluate(mswarm)\n",
    "h1    = fn_y_minmax.max_global()\n",
    "dt    = -1.\n",
    "steps = 0\n",
    "\n",
    "while steps<model_end_step:\n",
    "\n",
    "    # Get solution\n",
    "    solver.solve()\n",
    "\n",
    "    # get time step first time around\n",
    "    if dt < 0:\n",
    "        dt = advector.get_max_dt()\n",
    "    h0 = h1\n",
    "\n",
    "    # Advect particles   \n",
    "    advector.integrate(dt)  \n",
    "    msAdvector.integrate(dt)\n",
    "\n",
    "    # update peak heigh\n",
    "    fn_y_minmax.reset()\n",
    "    fn_y_minmax.evaluate(mswarm)\n",
    "    h1 = fn_y_minmax.max_global()\n",
    "\n",
    "    diffH = h1-h0\n",
    "    string = \"{}, {:.3e}, {:.3e}, {:.3e}\".format(steps,\n",
    "                                     dimensionalise(dt, u.kiloyear),\n",
    "                                     dimensionalise(stokesPIC.velocity_rms(), u.cm/u.year),\n",
    "                                     dimensionalise(diffH, u.metre) )\n",
    "    if uw.mpi.rank == 0:\n",
    "        print(string)\n",
    "        outfile.write(string+\"\\n\")\n",
    "\n",
    "\n",
    "    # population control\n",
    "    population_control.repopulate()\n",
    "    fig1.save(output_path+\"Uplift-\"+str(steps)+\".png\")\n",
    "\n",
    "    steps += 1\n",
    "\n",
    "\n",
    "outfile.close()"
   ]
  },
  {
   "cell_type": "code",
   "execution_count": null,
   "metadata": {},
   "outputs": [],
   "source": [
    "fig1.show()"
   ]
  },
  {
   "cell_type": "code",
   "execution_count": null,
   "metadata": {},
   "outputs": [],
   "source": [
    "# for testing purposes\n",
    "dimensionalise=(diffH*dimensionalise(1,u.meter))\n",
    "if np.fabs(dimensionalise.magnitude-245.140) > 0.05*245.140:\n",
    "    raise RuntimeError(\"Height of passive tracer outside expected 5% tolerance\")"
   ]
  }
 ],
 "metadata": {
  "kernelspec": {
   "display_name": "Python 3",
   "language": "python",
   "name": "python3"
  },
  "language_info": {
   "codemirror_mode": {
    "name": "ipython",
    "version": 3
   },
   "file_extension": ".py",
   "mimetype": "text/x-python",
   "name": "python",
   "nbconvert_exporter": "python",
   "pygments_lexer": "ipython3",
   "version": "3.5.3"
  }
 },
 "nbformat": 4,
 "nbformat_minor": 1
}